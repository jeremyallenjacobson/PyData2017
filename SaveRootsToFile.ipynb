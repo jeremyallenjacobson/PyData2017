{
 "cells": [
  {
   "cell_type": "markdown",
   "metadata": {
    "slideshow": {
     "slide_type": "slide"
    }
   },
   "source": [
    "# Write  roots to files\n",
    "\n",
    "In this workbook, we create data sets consisting of roots of polynomial equations having restricted 0,1 coefficients."
   ]
  },
  {
   "cell_type": "markdown",
   "metadata": {
    "slideshow": {
     "slide_type": "slide"
    }
   },
   "source": [
    "First we create a list of all possible coefficients $(1,a_{9}, \\cdots, a_1, 1)$ of polynomials of degree 10 of the form\n",
    "    $$P(z)=z^{10}+a_9z^9\\cdots + a_1z + 1 $$\n",
    "where $a_i\\in\\{0,1\\}$\n",
    "\n",
    "Here Python is quite handy, as there is an entire module of functions for doing very specific types of iteration (here we need the one called **product**)."
   ]
  },
  {
   "cell_type": "code",
   "execution_count": null,
   "metadata": {
    "collapsed": false,
    "slideshow": {
     "slide_type": "subslide"
    }
   },
   "outputs": [],
   "source": [
    "from itertools import product"
   ]
  },
  {
   "cell_type": "markdown",
   "metadata": {
    "slideshow": {
     "slide_type": "slide"
    }
   },
   "source": [
    "To make it easier for you to make a new list for different degrees (say 6, or 9,  etc.), we create a function which can be easily reused by inputting in place of *degree* the desired maximum degree."
   ]
  },
  {
   "cell_type": "code",
   "execution_count": null,
   "metadata": {
    "collapsed": false,
    "slideshow": {
     "slide_type": "subslide"
    }
   },
   "outputs": [],
   "source": [
    "def make_coeff(degree):\n",
    "    coefficients = list(product(range(2), repeat = degree -1 ))\n",
    "    for k in range(len(coefficients)):\n",
    "        coefficients[k] = tuple([1]) + coefficients[k] + tuple([1])\n",
    "    return coefficients"
   ]
  },
  {
   "cell_type": "markdown",
   "metadata": {
    "slideshow": {
     "slide_type": "slide"
    }
   },
   "source": [
    "We use Numpy to find the zeros. "
   ]
  },
  {
   "cell_type": "code",
   "execution_count": null,
   "metadata": {
    "collapsed": false,
    "slideshow": {
     "slide_type": "subslide"
    }
   },
   "outputs": [],
   "source": [
    "import numpy as np\n",
    "import pandas as pd"
   ]
  },
  {
   "cell_type": "markdown",
   "metadata": {},
   "source": [
    "The roots_list function below accepts degree, an integer, and it returns a numpy array of size $n\\times 2$, where $n$ is the number of roots of all polynomials with 0,1 coefficients of that degree. The first column of the array is the real part of the roots, the second is the imaginary part. First, the function creates a numpy array of the correct size, then it populates array with the roots. Note, if you try to use numpy append to iteratively generate an array of the correct size proceeding row by row, you will get a memory error when working with high degrees as numpy append makes a copy each time."
   ]
  },
  {
   "cell_type": "code",
   "execution_count": null,
   "metadata": {
    "collapsed": false,
    "slideshow": {
     "slide_type": "subslide"
    }
   },
   "outputs": [],
   "source": [
    "def roots_list(degree):\n",
    "    coefficients = make_coeff(degree)\n",
    "    c = len(coefficients)\n",
    "    rootbound = degree * c\n",
    "    roots = np.zeros((rootbound,2))\n",
    "    index = 0\n",
    "    for j in range(c):\n",
    "        rootsj = np.roots(coefficients[j])\n",
    "        for z in rootsj:\n",
    "            roots[index] = (z.real, z.imag)\n",
    "            index = index + 1\n",
    "    return roots"
   ]
  },
  {
   "cell_type": "markdown",
   "metadata": {},
   "source": [
    "The function below saves to a binary file (.npy) the roots of all polynomials with 0,1 coefficients of degree equal to the number input as degree."
   ]
  },
  {
   "cell_type": "code",
   "execution_count": null,
   "metadata": {
    "collapsed": false
   },
   "outputs": [],
   "source": [
    "def save_roots(degree): \n",
    "    np.save('zerosEqual' + str(degree) + '.npy' , roots_list(degree))"
   ]
  },
  {
   "cell_type": "markdown",
   "metadata": {},
   "source": [
    "The function below saves all roots of all polynomials with 0,1 coefficients of degree equal to the number input. For degree 25 it takes many, many hours on a laptop."
   ]
  },
  {
   "cell_type": "code",
   "execution_count": null,
   "metadata": {
    "collapsed": false
   },
   "outputs": [],
   "source": [
    "%time save_roots(25)"
   ]
  },
  {
   "cell_type": "markdown",
   "metadata": {},
   "source": [
    "## Data frame save to file"
   ]
  },
  {
   "cell_type": "markdown",
   "metadata": {},
   "source": [
    "The function below saves to a csv file, but this is much slower to read and write than using .npy files as we did above. Also, there is less accuracy as the roots in the csv file are rounded some."
   ]
  },
  {
   "cell_type": "markdown",
   "metadata": {},
   "source": [
    "Saving roots up degree 16 was about 12 seconds, up to 17 about 27 seconds, up to 18 about 55 seconds, up to 19 about 2 minutes, up to 20 (4m 7s), up to 21 (9m 41 s), up to 22 (20 m 49 s), up to 23 (52 m 54s)."
   ]
  },
  {
   "cell_type": "code",
   "execution_count": null,
   "metadata": {
    "collapsed": false
   },
   "outputs": [],
   "source": [
    "def save_rootsCSV(degree):\n",
    "    import csv\n",
    "    coefficients = make_coeff(degree)\n",
    "    roots = []\n",
    "    for j in range(len(coefficients)):\n",
    "        rootsComplex = np.roots(coefficients[j])\n",
    "        roots_list = list(zip(rootsComplex.real, rootsComplex.imag))\n",
    "        roots.extend(roots_list)\n",
    "    with open('rootsEqual' + str(degree) + 'List.csv', 'w', newline=\"\") as f:\n",
    "        writer = csv.writer(f)\n",
    "        writer.writerow([\"real\", \"imaginary\"])\n",
    "        writer.writerows(roots)"
   ]
  }
 ],
 "metadata": {
  "anaconda-cloud": {},
  "kernelspec": {
   "display_name": "Python [conda env:py35]",
   "language": "python",
   "name": "conda-env-py35-py"
  },
  "language_info": {
   "codemirror_mode": {
    "name": "ipython",
    "version": 3
   },
   "file_extension": ".py",
   "mimetype": "text/x-python",
   "name": "python",
   "nbconvert_exporter": "python",
   "pygments_lexer": "ipython3",
   "version": "3.5.2"
  }
 },
 "nbformat": 4,
 "nbformat_minor": 0
}
