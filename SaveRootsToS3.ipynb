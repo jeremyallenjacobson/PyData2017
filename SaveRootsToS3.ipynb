{
 "cells": [
  {
   "cell_type": "markdown",
   "metadata": {
    "slideshow": {
     "slide_type": "slide"
    }
   },
   "source": [
    "# Write  roots to files\n",
    "\n",
    "In this notebook, we create data sets consisting of roots of polynomial equations having restricted 0,1 coefficients."
   ]
  },
  {
   "cell_type": "markdown",
   "metadata": {
    "tags": []
   },
   "source": [
    "## Creating dataframe\n",
    "In this first section we create a dataframe that we want to study."
   ]
  },
  {
   "cell_type": "markdown",
   "metadata": {
    "slideshow": {
     "slide_type": "slide"
    }
   },
   "source": [
    "First we create a list of all possible coefficients $(1,a_{d-1}, \\cdots, a_1, 1)$ of polynomials of degree $d$ of the form\n",
    "    $$P(z)=z^{d}+a_{d-1}z^{d-1}\\cdots + a_1z + 1 $$\n",
    "where $a_i\\in\\{0,1\\}$\n",
    "\n",
    "Here Python is quite handy, as there is an entire module of functions for doing very specific types of iteration (here we need the one called **product**)."
   ]
  },
  {
   "cell_type": "code",
   "execution_count": 1,
   "metadata": {
    "collapsed": false,
    "jupyter": {
     "outputs_hidden": false
    },
    "slideshow": {
     "slide_type": "subslide"
    }
   },
   "outputs": [],
   "source": [
    "from itertools import product"
   ]
  },
  {
   "cell_type": "markdown",
   "metadata": {
    "slideshow": {
     "slide_type": "slide"
    }
   },
   "source": [
    "To make it easier for you to make a new list for different degrees (say $d=6$, or $d=9$,  etc.), we create a function which can be easily reused by inputting in place of *degree* the desired maximum degree."
   ]
  },
  {
   "cell_type": "code",
   "execution_count": 2,
   "metadata": {
    "tags": [
     "parameters"
    ]
   },
   "outputs": [],
   "source": [
    "degree = 4 #this is a parameter cell"
   ]
  },
  {
   "cell_type": "markdown",
   "metadata": {},
   "source": [
    "When inserting 'parameters' used by the Run Notebook feature, degree will be input as a string. We therefore convert it below."
   ]
  },
  {
   "cell_type": "code",
   "execution_count": 3,
   "metadata": {
    "tags": []
   },
   "outputs": [],
   "source": [
    "degree = int(degree)"
   ]
  },
  {
   "cell_type": "code",
   "execution_count": 4,
   "metadata": {
    "collapsed": false,
    "jupyter": {
     "outputs_hidden": false
    },
    "slideshow": {
     "slide_type": "subslide"
    }
   },
   "outputs": [],
   "source": [
    "def make_coeff(degree):\n",
    "    coefficients = list(product(range(2), repeat = degree -1 ))\n",
    "    for k in range(len(coefficients)):\n",
    "        coefficients[k] = tuple([1]) + coefficients[k] + tuple([1])\n",
    "    return coefficients"
   ]
  },
  {
   "cell_type": "markdown",
   "metadata": {},
   "source": [
    "For example, when $d=4$ as was specified earlier in the default parameter, the list is below."
   ]
  },
  {
   "cell_type": "code",
   "execution_count": 5,
   "metadata": {
    "tags": []
   },
   "outputs": [],
   "source": [
    "coefficients = make_coeff(degree)"
   ]
  },
  {
   "cell_type": "code",
   "execution_count": 6,
   "metadata": {
    "tags": []
   },
   "outputs": [
    {
     "data": {
      "text/plain": [
       "[(1, 0, 0, 0, 0, 0, 0, 0, 1),\n",
       " (1, 0, 0, 0, 0, 0, 0, 1, 1),\n",
       " (1, 0, 0, 0, 0, 0, 1, 0, 1),\n",
       " (1, 0, 0, 0, 0, 0, 1, 1, 1),\n",
       " (1, 0, 0, 0, 0, 1, 0, 0, 1)]"
      ]
     },
     "execution_count": 6,
     "metadata": {},
     "output_type": "execute_result"
    }
   ],
   "source": [
    "coefficients[:5] #inspect first 5"
   ]
  },
  {
   "cell_type": "markdown",
   "metadata": {
    "slideshow": {
     "slide_type": "slide"
    }
   },
   "source": [
    "We use Numpy to find the roots. "
   ]
  },
  {
   "cell_type": "code",
   "execution_count": 7,
   "metadata": {
    "collapsed": false,
    "jupyter": {
     "outputs_hidden": false
    },
    "slideshow": {
     "slide_type": "subslide"
    }
   },
   "outputs": [],
   "source": [
    "import numpy as np\n",
    "import pandas as pd"
   ]
  },
  {
   "cell_type": "markdown",
   "metadata": {},
   "source": [
    "We create an empty dataframe to populate with the roots. Each root has a real and imaginary part."
   ]
  },
  {
   "cell_type": "code",
   "execution_count": 8,
   "metadata": {
    "tags": []
   },
   "outputs": [],
   "source": [
    "array = degree*make_coeff(degree) #there are d solutions for each choice of coefficients when the degree is d \n",
    "df = pd.DataFrame(array, columns = [f'a{i}' for i in range(degree,-1, -1)])\n",
    "df['real'] = ''\n",
    "df['imag'] = ''"
   ]
  },
  {
   "cell_type": "code",
   "execution_count": 9,
   "metadata": {
    "tags": []
   },
   "outputs": [
    {
     "data": {
      "text/html": [
       "<div>\n",
       "<style scoped>\n",
       "    .dataframe tbody tr th:only-of-type {\n",
       "        vertical-align: middle;\n",
       "    }\n",
       "\n",
       "    .dataframe tbody tr th {\n",
       "        vertical-align: top;\n",
       "    }\n",
       "\n",
       "    .dataframe thead th {\n",
       "        text-align: right;\n",
       "    }\n",
       "</style>\n",
       "<table border=\"1\" class=\"dataframe\">\n",
       "  <thead>\n",
       "    <tr style=\"text-align: right;\">\n",
       "      <th></th>\n",
       "      <th>a8</th>\n",
       "      <th>a7</th>\n",
       "      <th>a6</th>\n",
       "      <th>a5</th>\n",
       "      <th>a4</th>\n",
       "      <th>a3</th>\n",
       "      <th>a2</th>\n",
       "      <th>a1</th>\n",
       "      <th>a0</th>\n",
       "      <th>real</th>\n",
       "      <th>imag</th>\n",
       "    </tr>\n",
       "  </thead>\n",
       "  <tbody>\n",
       "    <tr>\n",
       "      <th>0</th>\n",
       "      <td>1</td>\n",
       "      <td>0</td>\n",
       "      <td>0</td>\n",
       "      <td>0</td>\n",
       "      <td>0</td>\n",
       "      <td>0</td>\n",
       "      <td>0</td>\n",
       "      <td>0</td>\n",
       "      <td>1</td>\n",
       "      <td></td>\n",
       "      <td></td>\n",
       "    </tr>\n",
       "    <tr>\n",
       "      <th>1</th>\n",
       "      <td>1</td>\n",
       "      <td>0</td>\n",
       "      <td>0</td>\n",
       "      <td>0</td>\n",
       "      <td>0</td>\n",
       "      <td>0</td>\n",
       "      <td>0</td>\n",
       "      <td>1</td>\n",
       "      <td>1</td>\n",
       "      <td></td>\n",
       "      <td></td>\n",
       "    </tr>\n",
       "    <tr>\n",
       "      <th>2</th>\n",
       "      <td>1</td>\n",
       "      <td>0</td>\n",
       "      <td>0</td>\n",
       "      <td>0</td>\n",
       "      <td>0</td>\n",
       "      <td>0</td>\n",
       "      <td>1</td>\n",
       "      <td>0</td>\n",
       "      <td>1</td>\n",
       "      <td></td>\n",
       "      <td></td>\n",
       "    </tr>\n",
       "    <tr>\n",
       "      <th>3</th>\n",
       "      <td>1</td>\n",
       "      <td>0</td>\n",
       "      <td>0</td>\n",
       "      <td>0</td>\n",
       "      <td>0</td>\n",
       "      <td>0</td>\n",
       "      <td>1</td>\n",
       "      <td>1</td>\n",
       "      <td>1</td>\n",
       "      <td></td>\n",
       "      <td></td>\n",
       "    </tr>\n",
       "    <tr>\n",
       "      <th>4</th>\n",
       "      <td>1</td>\n",
       "      <td>0</td>\n",
       "      <td>0</td>\n",
       "      <td>0</td>\n",
       "      <td>0</td>\n",
       "      <td>1</td>\n",
       "      <td>0</td>\n",
       "      <td>0</td>\n",
       "      <td>1</td>\n",
       "      <td></td>\n",
       "      <td></td>\n",
       "    </tr>\n",
       "  </tbody>\n",
       "</table>\n",
       "</div>"
      ],
      "text/plain": [
       "   a8  a7  a6  a5  a4  a3  a2  a1  a0 real imag\n",
       "0   1   0   0   0   0   0   0   0   1          \n",
       "1   1   0   0   0   0   0   0   1   1          \n",
       "2   1   0   0   0   0   0   1   0   1          \n",
       "3   1   0   0   0   0   0   1   1   1          \n",
       "4   1   0   0   0   0   1   0   0   1          "
      ]
     },
     "execution_count": 9,
     "metadata": {},
     "output_type": "execute_result"
    }
   ],
   "source": [
    "df.head()"
   ]
  },
  {
   "cell_type": "markdown",
   "metadata": {},
   "source": [
    "Iterate through list of coefficients, computing roots and inputting them to dataframe."
   ]
  },
  {
   "cell_type": "code",
   "execution_count": 10,
   "metadata": {
    "tags": []
   },
   "outputs": [],
   "source": [
    "n = len(coefficients) #total number of coefficients\n",
    "for i in range(len(coefficients)): #iterate through list of coefficients\n",
    "    rootsi = np.roots(coefficients[i]) #solve roots of that coefficient\n",
    "    roots_index = 0 #each coefficient has d roots, index to iterate over roots\n",
    "    for j in range(i,len(df), n): #iterate over every nth row of dataframe\n",
    "        rootj=rootsi[roots_index] #select root\n",
    "        roots_index+=1 \n",
    "        df.at[j,'real'] = rootj.real #replace empty value with real solution\n",
    "        df.at[j,'imag'] = rootj.imag #replace empty value with imaginary solution"
   ]
  },
  {
   "cell_type": "code",
   "execution_count": 11,
   "metadata": {
    "tags": []
   },
   "outputs": [],
   "source": [
    "df[['real','imag']] = df[['real','imag']].astype(float)"
   ]
  },
  {
   "cell_type": "code",
   "execution_count": 12,
   "metadata": {
    "tags": []
   },
   "outputs": [
    {
     "data": {
      "text/plain": [
       "a8        int64\n",
       "a7        int64\n",
       "a6        int64\n",
       "a5        int64\n",
       "a4        int64\n",
       "a3        int64\n",
       "a2        int64\n",
       "a1        int64\n",
       "a0        int64\n",
       "real    float64\n",
       "imag    float64\n",
       "dtype: object"
      ]
     },
     "execution_count": 12,
     "metadata": {},
     "output_type": "execute_result"
    }
   ],
   "source": [
    "df.dtypes"
   ]
  },
  {
   "cell_type": "markdown",
   "metadata": {},
   "source": [
    "## In this second section, we save the dataframe to an S3 bucket.\n",
    "\n",
    "I made a bucket to save to, let's write a line to check if it exists. If no output is returned, it exists, otherwise an error is returned."
   ]
  },
  {
   "cell_type": "code",
   "execution_count": 13,
   "metadata": {
    "tags": []
   },
   "outputs": [],
   "source": [
    "bucket_name = 'restricted-coefficients'"
   ]
  },
  {
   "cell_type": "code",
   "execution_count": 14,
   "metadata": {
    "tags": []
   },
   "outputs": [],
   "source": [
    "!aws s3api head-bucket --bucket $bucket_name"
   ]
  },
  {
   "cell_type": "markdown",
   "metadata": {},
   "source": [
    "First we install the AWS SDK for Pandas, formerly known as `awswrangler`."
   ]
  },
  {
   "cell_type": "code",
   "execution_count": 15,
   "metadata": {
    "tags": []
   },
   "outputs": [
    {
     "name": "stdout",
     "output_type": "stream",
     "text": [
      "Keyring is skipped due to an exception: 'keyring.backends'\n",
      "Collecting awswrangler\n",
      "  Using cached awswrangler-2.19.0-py3-none-any.whl (267 kB)\n",
      "Collecting progressbar2<5.0.0,>=4.0.0\n",
      "  Using cached progressbar2-4.2.0-py2.py3-none-any.whl (27 kB)\n",
      "Collecting requests-aws4auth<2.0.0,>=1.1.1\n",
      "  Using cached requests_aws4auth-1.2.0-py2.py3-none-any.whl (24 kB)\n",
      "Requirement already satisfied: numpy<=1.23.4,>=1.21.0 in /opt/conda/lib/python3.7/site-packages (from awswrangler) (1.21.6)\n",
      "Requirement already satisfied: botocore<2.0.0,>=1.27.11 in /opt/conda/lib/python3.7/site-packages (from awswrangler) (1.29.24)\n",
      "Requirement already satisfied: openpyxl<3.1.0,>=3.0.0 in /opt/conda/lib/python3.7/site-packages (from awswrangler) (3.0.3)\n",
      "Collecting pg8000<2.0.0,>=1.20.0\n",
      "  Using cached pg8000-1.29.4-py3-none-any.whl (51 kB)\n",
      "Collecting opensearch-py<3,>=1\n",
      "  Downloading opensearch_py-2.1.0-py2.py3-none-any.whl (220 kB)\n",
      "\u001b[2K     \u001b[90m━━━━━━━━━━━━━━━━━━━━━━━━━━━━━━━━━━━━━━━\u001b[0m \u001b[32m220.7/220.7 kB\u001b[0m \u001b[31m2.6 MB/s\u001b[0m eta \u001b[36m0:00:00\u001b[0m00:01\u001b[0m\n",
      "\u001b[?25hCollecting pymysql<2.0.0,>=1.0.0\n",
      "  Using cached PyMySQL-1.0.2-py3-none-any.whl (43 kB)\n",
      "Requirement already satisfied: pyarrow<10.1.0,>=2.0.0 in /opt/conda/lib/python3.7/site-packages (from awswrangler) (10.0.1)\n",
      "Collecting backoff<3.0.0,>=1.11.1\n",
      "  Using cached backoff-2.2.1-py3-none-any.whl (15 kB)\n",
      "Collecting gremlinpython<4.0.0,>=3.5.2\n",
      "  Using cached gremlinpython-3.6.1-py2.py3-none-any.whl (73 kB)\n",
      "Collecting jsonpath-ng<2.0.0,>=1.5.3\n",
      "  Using cached jsonpath_ng-1.5.3-py3-none-any.whl (29 kB)\n",
      "Collecting redshift-connector<2.1.0,>=2.0.889\n",
      "  Using cached redshift_connector-2.0.909-py3-none-any.whl (112 kB)\n",
      "Requirement already satisfied: boto3<2.0.0,>=1.24.11 in /opt/conda/lib/python3.7/site-packages (from awswrangler) (1.26.24)\n",
      "Requirement already satisfied: pandas!=1.5.0,<2.0.0,<=1.5.1,>=1.2.0 in /opt/conda/lib/python3.7/site-packages (from awswrangler) (1.3.5)\n",
      "Requirement already satisfied: s3transfer<0.7.0,>=0.6.0 in /opt/conda/lib/python3.7/site-packages (from boto3<2.0.0,>=1.24.11->awswrangler) (0.6.0)\n",
      "Requirement already satisfied: jmespath<2.0.0,>=0.7.1 in /opt/conda/lib/python3.7/site-packages (from boto3<2.0.0,>=1.24.11->awswrangler) (1.0.1)\n",
      "Requirement already satisfied: urllib3<1.27,>=1.25.4 in /opt/conda/lib/python3.7/site-packages (from botocore<2.0.0,>=1.27.11->awswrangler) (1.26.13)\n",
      "Requirement already satisfied: python-dateutil<3.0.0,>=2.1 in /opt/conda/lib/python3.7/site-packages (from botocore<2.0.0,>=1.27.11->awswrangler) (2.8.2)\n",
      "Requirement already satisfied: nest-asyncio in /opt/conda/lib/python3.7/site-packages (from gremlinpython<4.0.0,>=3.5.2->awswrangler) (1.5.6)\n",
      "Collecting aenum<4.0.0,>=1.4.5\n",
      "  Using cached aenum-3.1.11-py3-none-any.whl (131 kB)\n",
      "Collecting isodate<1.0.0,>=0.6.0\n",
      "  Using cached isodate-0.6.1-py2.py3-none-any.whl (41 kB)\n",
      "Collecting aiohttp<=3.8.1,>=3.8.0\n",
      "  Using cached aiohttp-3.8.1-cp37-cp37m-manylinux_2_5_x86_64.manylinux1_x86_64.manylinux_2_12_x86_64.manylinux2010_x86_64.whl (1.1 MB)\n",
      "Requirement already satisfied: ply in /opt/conda/lib/python3.7/site-packages (from jsonpath-ng<2.0.0,>=1.5.3->awswrangler) (3.11)\n",
      "Requirement already satisfied: decorator in /opt/conda/lib/python3.7/site-packages (from jsonpath-ng<2.0.0,>=1.5.3->awswrangler) (4.4.1)\n",
      "Requirement already satisfied: six in /opt/conda/lib/python3.7/site-packages (from jsonpath-ng<2.0.0,>=1.5.3->awswrangler) (1.14.0)\n",
      "Requirement already satisfied: jdcal in /opt/conda/lib/python3.7/site-packages (from openpyxl<3.1.0,>=3.0.0->awswrangler) (1.4.1)\n",
      "Requirement already satisfied: et-xmlfile in /opt/conda/lib/python3.7/site-packages (from openpyxl<3.1.0,>=3.0.0->awswrangler) (1.0.1)\n",
      "Requirement already satisfied: certifi in /opt/conda/lib/python3.7/site-packages (from opensearch-py<3,>=1->awswrangler) (2022.9.24)\n",
      "Requirement already satisfied: requests<3.0.0,>=2.4.0 in /opt/conda/lib/python3.7/site-packages (from opensearch-py<3,>=1->awswrangler) (2.28.1)\n",
      "Requirement already satisfied: pytz>=2017.3 in /opt/conda/lib/python3.7/site-packages (from pandas!=1.5.0,<2.0.0,<=1.5.1,>=1.2.0->awswrangler) (2019.3)\n",
      "Requirement already satisfied: importlib-metadata>=1.0 in /opt/conda/lib/python3.7/site-packages (from pg8000<2.0.0,>=1.20.0->awswrangler) (5.1.0)\n",
      "Collecting scramp>=1.4.3\n",
      "  Using cached scramp-1.4.4-py3-none-any.whl (13 kB)\n",
      "Collecting python-utils>=3.0.0\n",
      "  Using cached python_utils-3.4.5-py2.py3-none-any.whl (23 kB)\n",
      "Requirement already satisfied: packaging in /opt/conda/lib/python3.7/site-packages (from redshift-connector<2.1.0,>=2.0.889->awswrangler) (20.1)\n",
      "Requirement already satisfied: beautifulsoup4<5.0.0,>=4.7.0 in /opt/conda/lib/python3.7/site-packages (from redshift-connector<2.1.0,>=2.0.889->awswrangler) (4.8.2)\n",
      "Requirement already satisfied: lxml>=4.6.5 in /opt/conda/lib/python3.7/site-packages (from redshift-connector<2.1.0,>=2.0.889->awswrangler) (4.9.1)\n",
      "Collecting pytz>=2017.3\n",
      "  Using cached pytz-2022.7.1-py2.py3-none-any.whl (499 kB)\n",
      "Requirement already satisfied: setuptools in /opt/conda/lib/python3.7/site-packages (from redshift-connector<2.1.0,>=2.0.889->awswrangler) (59.3.0)\n",
      "Requirement already satisfied: async-timeout<5.0,>=4.0.0a3 in /opt/conda/lib/python3.7/site-packages (from aiohttp<=3.8.1,>=3.8.0->gremlinpython<4.0.0,>=3.5.2->awswrangler) (4.0.2)\n",
      "Requirement already satisfied: charset-normalizer<3.0,>=2.0 in /opt/conda/lib/python3.7/site-packages (from aiohttp<=3.8.1,>=3.8.0->gremlinpython<4.0.0,>=3.5.2->awswrangler) (2.0.4)\n",
      "Requirement already satisfied: multidict<7.0,>=4.5 in /opt/conda/lib/python3.7/site-packages (from aiohttp<=3.8.1,>=3.8.0->gremlinpython<4.0.0,>=3.5.2->awswrangler) (6.0.3)\n",
      "Requirement already satisfied: aiosignal>=1.1.2 in /opt/conda/lib/python3.7/site-packages (from aiohttp<=3.8.1,>=3.8.0->gremlinpython<4.0.0,>=3.5.2->awswrangler) (1.3.1)\n",
      "Requirement already satisfied: asynctest==0.13.0 in /opt/conda/lib/python3.7/site-packages (from aiohttp<=3.8.1,>=3.8.0->gremlinpython<4.0.0,>=3.5.2->awswrangler) (0.13.0)\n",
      "Requirement already satisfied: frozenlist>=1.1.1 in /opt/conda/lib/python3.7/site-packages (from aiohttp<=3.8.1,>=3.8.0->gremlinpython<4.0.0,>=3.5.2->awswrangler) (1.3.3)\n",
      "Requirement already satisfied: typing-extensions>=3.7.4 in /opt/conda/lib/python3.7/site-packages (from aiohttp<=3.8.1,>=3.8.0->gremlinpython<4.0.0,>=3.5.2->awswrangler) (4.4.0)\n",
      "Requirement already satisfied: attrs>=17.3.0 in /opt/conda/lib/python3.7/site-packages (from aiohttp<=3.8.1,>=3.8.0->gremlinpython<4.0.0,>=3.5.2->awswrangler) (22.1.0)\n",
      "Requirement already satisfied: yarl<2.0,>=1.0 in /opt/conda/lib/python3.7/site-packages (from aiohttp<=3.8.1,>=3.8.0->gremlinpython<4.0.0,>=3.5.2->awswrangler) (1.8.2)\n",
      "Requirement already satisfied: soupsieve>=1.2 in /opt/conda/lib/python3.7/site-packages (from beautifulsoup4<5.0.0,>=4.7.0->redshift-connector<2.1.0,>=2.0.889->awswrangler) (1.9.5)\n",
      "Requirement already satisfied: zipp>=0.5 in /opt/conda/lib/python3.7/site-packages (from importlib-metadata>=1.0->pg8000<2.0.0,>=1.20.0->awswrangler) (3.11.0)\n",
      "Requirement already satisfied: idna<4,>=2.5 in /opt/conda/lib/python3.7/site-packages (from requests<3.0.0,>=2.4.0->opensearch-py<3,>=1->awswrangler) (2.8)\n",
      "Collecting asn1crypto>=1.5.1\n",
      "  Using cached asn1crypto-1.5.1-py2.py3-none-any.whl (105 kB)\n",
      "Requirement already satisfied: pyparsing>=2.0.2 in /opt/conda/lib/python3.7/site-packages (from packaging->redshift-connector<2.1.0,>=2.0.889->awswrangler) (2.4.6)\n",
      "Installing collected packages: pytz, asn1crypto, aenum, python-utils, pymysql, jsonpath-ng, isodate, backoff, scramp, requests-aws4auth, progressbar2, opensearch-py, aiohttp, pg8000, gremlinpython, redshift-connector, awswrangler\n",
      "  Attempting uninstall: pytz\n",
      "    Found existing installation: pytz 2019.3\n",
      "    Uninstalling pytz-2019.3:\n",
      "      Successfully uninstalled pytz-2019.3\n",
      "  Attempting uninstall: asn1crypto\n",
      "    Found existing installation: asn1crypto 1.3.0\n",
      "    Uninstalling asn1crypto-1.3.0:\n",
      "      Successfully uninstalled asn1crypto-1.3.0\n",
      "  Attempting uninstall: aiohttp\n",
      "    Found existing installation: aiohttp 3.8.3\n",
      "    Uninstalling aiohttp-3.8.3:\n",
      "      Successfully uninstalled aiohttp-3.8.3\n",
      "\u001b[31mERROR: pip's dependency resolver does not currently take into account all the packages that are installed. This behaviour is the source of the following dependency conflicts.\n",
      "aiobotocore 2.4.1 requires botocore<1.27.60,>=1.27.59, but you have botocore 1.29.24 which is incompatible.\u001b[0m\u001b[31m\n",
      "\u001b[0mSuccessfully installed aenum-3.1.11 aiohttp-3.8.1 asn1crypto-1.5.1 awswrangler-2.19.0 backoff-2.2.1 gremlinpython-3.6.1 isodate-0.6.1 jsonpath-ng-1.5.3 opensearch-py-2.1.0 pg8000-1.29.4 progressbar2-4.2.0 pymysql-1.0.2 python-utils-3.4.5 pytz-2022.7.1 redshift-connector-2.0.909 requests-aws4auth-1.2.0 scramp-1.4.4\n",
      "\u001b[33mWARNING: Running pip as the 'root' user can result in broken permissions and conflicting behaviour with the system package manager. It is recommended to use a virtual environment instead: https://pip.pypa.io/warnings/venv\u001b[0m\u001b[33m\n",
      "\u001b[0m"
     ]
    }
   ],
   "source": [
    "!pip install awswrangler"
   ]
  },
  {
   "cell_type": "markdown",
   "metadata": {},
   "source": [
    "Next, we use import this package and use it to save to a Parquet file."
   ]
  },
  {
   "cell_type": "code",
   "execution_count": 16,
   "metadata": {
    "tags": []
   },
   "outputs": [],
   "source": [
    "import awswrangler as wr"
   ]
  },
  {
   "cell_type": "code",
   "execution_count": 17,
   "metadata": {
    "tags": []
   },
   "outputs": [
    {
     "data": {
      "text/plain": [
       "{'paths': ['s3://restricted-coefficients/8'], 'partitions_values': {}}"
      ]
     },
     "execution_count": 17,
     "metadata": {},
     "output_type": "execute_result"
    }
   ],
   "source": [
    "wr.s3.to_parquet(df,f's3://restricted-coefficients/{degree}')"
   ]
  },
  {
   "cell_type": "markdown",
   "metadata": {},
   "source": [
    "Uncomment the line below to check that the data can be recovered together with data types."
   ]
  },
  {
   "cell_type": "code",
   "execution_count": 18,
   "metadata": {
    "tags": []
   },
   "outputs": [],
   "source": [
    "#df2 = wr.s3.read_parquet(path=f's3://restricted-coefficients/{degree}')\n",
    "#df2"
   ]
  },
  {
   "cell_type": "markdown",
   "metadata": {},
   "source": [
    "Saving roots up degree 16 was about 12 seconds, up to 17 about 27 seconds, up to 18 about 55 seconds, up to 19 about 2 minutes, up to 20 (4m 7s), up to 21 (9m 41 s), up to 22 (20 m 49 s), up to 23 (52 m 54s)."
   ]
  }
 ],
 "metadata": {
  "anaconda-cloud": {},
  "instance_type": "ml.t3.medium",
  "kernelspec": {
   "display_name": "Python 3 (Data Science)",
   "language": "python",
   "name": "python3__SAGEMAKER_INTERNAL__arn:aws:sagemaker:us-east-1:081325390199:image/datascience-1.0"
  },
  "language_info": {
   "codemirror_mode": {
    "name": "ipython",
    "version": 3
   },
   "file_extension": ".py",
   "mimetype": "text/x-python",
   "name": "python",
   "nbconvert_exporter": "python",
   "pygments_lexer": "ipython3",
   "version": "3.7.10"
  }
 },
 "nbformat": 4,
 "nbformat_minor": 4
}
